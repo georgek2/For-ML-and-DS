{
 "cells": [
  {
   "cell_type": "code",
   "execution_count": 3,
   "metadata": {},
   "outputs": [],
   "source": [
    "import numpy as np\n",
    "# The main object is the homogenous multidimensional arrays. Tables of same type elements"
   ]
  },
  {
   "cell_type": "code",
   "execution_count": 62,
   "metadata": {},
   "outputs": [
    {
     "name": "stdout",
     "output_type": "stream",
     "text": [
      "[[ 4  5  6  7  8]\n",
      " [ 4  8  6  9  8]\n",
      " [45  6  8  3 45]]\n"
     ]
    },
    {
     "data": {
      "text/plain": [
       "numpy.ndarray"
      ]
     },
     "execution_count": 62,
     "metadata": {},
     "output_type": "execute_result"
    }
   ],
   "source": [
    "# Creating an Array\n",
    "nums = np.array([(4, 5, 6, 7, 8), (4, 8, 6, 9, 8), (45, 6, 8, 3, 45)])\n",
    "print(nums)\n",
    "type(nums) # Checking the type"
   ]
  },
  {
   "cell_type": "code",
   "execution_count": 59,
   "metadata": {},
   "outputs": [
    {
     "name": "stdout",
     "output_type": "stream",
     "text": [
      "(3, 5)\n",
      "int32\n"
     ]
    }
   ],
   "source": [
    "print(nums.shape) # Finding the shape of an array\n",
    "print(nums.dtype)"
   ]
  },
  {
   "cell_type": "code",
   "execution_count": 23,
   "metadata": {},
   "outputs": [
    {
     "name": "stdout",
     "output_type": "stream",
     "text": [
      "45\n",
      "8\n"
     ]
    }
   ],
   "source": [
    "one = nums[2, -1]\n",
    "print(one)\n",
    "two = nums[2, 2]\n",
    "print(two)"
   ]
  },
  {
   "cell_type": "code",
   "execution_count": 27,
   "metadata": {},
   "outputs": [
    {
     "name": "stdout",
     "output_type": "stream",
     "text": [
      "[53 19 20 19 61]\n"
     ]
    }
   ],
   "source": [
    "print(sum(nums))"
   ]
  },
  {
   "cell_type": "code",
   "execution_count": 28,
   "metadata": {},
   "outputs": [
    {
     "name": "stdout",
     "output_type": "stream",
     "text": [
      "[ 30  35 107]\n",
      "----------\n",
      "[53 19 20 19 61]\n"
     ]
    }
   ],
   "source": [
    "print(nums.sum(axis=1)) # Adding the rows together\n",
    "print(\"----------\")\n",
    "print(nums.sum(axis=0)) # Adding the columns"
   ]
  },
  {
   "cell_type": "code",
   "execution_count": 117,
   "metadata": {},
   "outputs": [
    {
     "name": "stdout",
     "output_type": "stream",
     "text": [
      "[[ 4  5  6]\n",
      " [ 7  8  4]\n",
      " [ 8  6  9]\n",
      " [ 8 45  6]\n",
      " [ 8  3 45]]\n"
     ]
    }
   ],
   "source": [
    "jig = nums.reshape(5, 3) # Reshaping the array\n",
    "print(jig)"
   ]
  },
  {
   "cell_type": "code",
   "execution_count": 120,
   "metadata": {},
   "outputs": [
    {
     "name": "stdout",
     "output_type": "stream",
     "text": [
      "[[7 8 4]\n",
      " [8 6 9]]\n",
      "---------\n",
      "[[ 6  9]\n",
      " [45  6]\n",
      " [ 3 45]]\n"
     ]
    }
   ],
   "source": [
    "print(jig[1:3, :]) #Slicing the array. Rows and cols needed\n",
    "print('---------')\n",
    "print(jig[2:, 1:])"
   ]
  },
  {
   "cell_type": "code",
   "execution_count": 30,
   "metadata": {},
   "outputs": [
    {
     "name": "stdout",
     "output_type": "stream",
     "text": [
      "[35 67 70]\n"
     ]
    }
   ],
   "source": [
    "add = sum(nums)\n",
    "print(add)"
   ]
  },
  {
   "cell_type": "code",
   "execution_count": 31,
   "metadata": {},
   "outputs": [
    {
     "name": "stdout",
     "output_type": "stream",
     "text": [
      "[15 19 23 59 56]\n",
      "----------\n",
      "[35 67 70]\n"
     ]
    }
   ],
   "source": [
    "print(nums.sum(axis=1)) # Adding the rows together\n",
    "print(\"----------\")\n",
    "print(nums.sum(axis=0)) # Adding the columns"
   ]
  },
  {
   "cell_type": "code",
   "execution_count": 46,
   "metadata": {},
   "outputs": [
    {
     "name": "stdout",
     "output_type": "stream",
     "text": [
      "[ 100.  200.  300.  400.  500.  600.  700.  800.  900. 1000.]\n"
     ]
    }
   ],
   "source": [
    "names = np.linspace(100, 1000, 10)\n",
    "print(names)"
   ]
  },
  {
   "cell_type": "code",
   "execution_count": 49,
   "metadata": {},
   "outputs": [
    {
     "name": "stdout",
     "output_type": "stream",
     "text": [
      "[ 10.  20.  30.  40.  50.  60.  70.  80.  90. 100.]\n",
      "[ 1.  2.  3.  4.  5.  6.  7.  8.  9. 10.]\n"
     ]
    }
   ],
   "source": [
    "likes = np.linspace(10, 100, 10) # Printing the specified num of nums between the given range \n",
    "print(likes)\n",
    "twice= np.linspace(1, 10, 10)\n",
    "print(twice)"
   ]
  },
  {
   "cell_type": "code",
   "execution_count": 41,
   "metadata": {},
   "outputs": [
    {
     "name": "stdout",
     "output_type": "stream",
     "text": [
      "[2 3 4]\n"
     ]
    }
   ],
   "source": [
    "you = np.arange(2, 5) # Print nums between 2 and 5 but not including 5\n",
    "print(you)"
   ]
  },
  {
   "cell_type": "code",
   "execution_count": 49,
   "metadata": {},
   "outputs": [
    {
     "name": "stdout",
     "output_type": "stream",
     "text": [
      "[20 21 22 23 24]\n"
     ]
    }
   ],
   "source": [
    "you = np.arange(20, 25) # Print nums between 20 and 25 but not including 25\n",
    "print(you)"
   ]
  },
  {
   "cell_type": "code",
   "execution_count": 4,
   "metadata": {},
   "outputs": [
    {
     "name": "stdout",
     "output_type": "stream",
     "text": [
      "[[ 23  45 654  34  56]\n",
      " [ 34  76  87  56  45]\n",
      " [ 67  45 645  34  56]]\n"
     ]
    }
   ],
   "source": [
    "hates = np.array([(23, 45, 654, 34, 56), (34, 76, 87, 56, 45), (67, 45, 645, 34, 56)])\n",
    "print(hates)"
   ]
  },
  {
   "cell_type": "code",
   "execution_count": 50,
   "metadata": {},
   "outputs": [
    {
     "name": "stdout",
     "output_type": "stream",
     "text": [
      "87\n"
     ]
    },
    {
     "data": {
      "text/plain": [
       "56"
      ]
     },
     "execution_count": 50,
     "metadata": {},
     "output_type": "execute_result"
    }
   ],
   "source": [
    "print(hates[1, 2])\n",
    "hates[-1, -1] # The last row, the last column.."
   ]
  },
  {
   "cell_type": "code",
   "execution_count": 30,
   "metadata": {},
   "outputs": [
    {
     "name": "stdout",
     "output_type": "stream",
     "text": [
      "[[ 23  45 654]\n",
      " [ 34  56  34]\n",
      " [ 76  87  56]\n",
      " [ 45  67  45]\n",
      " [645  34  56]]\n"
     ]
    }
   ],
   "source": [
    "you = hates.reshape(5, 3)\n",
    "print(you)"
   ]
  },
  {
   "cell_type": "code",
   "execution_count": 41,
   "metadata": {},
   "outputs": [
    {
     "name": "stdout",
     "output_type": "stream",
     "text": [
      "87\n",
      "645\n"
     ]
    }
   ],
   "source": [
    "print(you[2, 1])\n",
    "print(you[4, 0])"
   ]
  },
  {
   "cell_type": "code",
   "execution_count": 55,
   "metadata": {},
   "outputs": [
    {
     "name": "stdout",
     "output_type": "stream",
     "text": [
      "1\n",
      "int32\n",
      "5\n",
      "4\n"
     ]
    }
   ],
   "source": [
    "print(you.ndim)\n",
    "print(you.dtype)\n",
    "print(you.size)\n",
    "print(you.itemsize)"
   ]
  },
  {
   "cell_type": "code",
   "execution_count": 60,
   "metadata": {},
   "outputs": [
    {
     "name": "stdout",
     "output_type": "stream",
     "text": [
      "[['You' 'Me' 'Them']\n",
      " ['Me' 'Them' 'Her']\n",
      " ['Jose' 'Kim' 'Zach']]\n"
     ]
    }
   ],
   "source": [
    "friends = np.array([('You', 'Me', 'Them'), ('Me', 'Them', 'Her'), ('Jose', 'Kim', 'Zach')])\n",
    "print(friends)"
   ]
  },
  {
   "cell_type": "code",
   "execution_count": 61,
   "metadata": {},
   "outputs": [
    {
     "name": "stdout",
     "output_type": "stream",
     "text": [
      "[[ True False  True]\n",
      " [False  True  True]]\n"
     ]
    }
   ],
   "source": [
    "names = np.array([(True, False, True), (False, True, True)])\n",
    "print(names)"
   ]
  },
  {
   "cell_type": "code",
   "execution_count": 70,
   "metadata": {},
   "outputs": [
    {
     "data": {
      "text/plain": [
       "array([[1, 1, 1, 1],\n",
       "       [1, 1, 1, 1],\n",
       "       [1, 1, 1, 1]], dtype=int16)"
      ]
     },
     "execution_count": 70,
     "metadata": {},
     "output_type": "execute_result"
    }
   ],
   "source": [
    "# An example of built-in methods to create arrays\n",
    "np.ones((3, 4), dtype=np.int16) # Three rows and 4 cols all ones."
   ]
  },
  {
   "cell_type": "code",
   "execution_count": 76,
   "metadata": {},
   "outputs": [
    {
     "name": "stdout",
     "output_type": "stream",
     "text": [
      "[[34 34 34 34 34]\n",
      " [34 34 34 34 34]\n",
      " [34 34 34 34 34]\n",
      " [34 34 34 34 34]]\n",
      "*********************\n",
      "[[1.1 1.1 1.1 1.1 1.1 1.1]\n",
      " [1.1 1.1 1.1 1.1 1.1 1.1]\n",
      " [1.1 1.1 1.1 1.1 1.1 1.1]\n",
      " [1.1 1.1 1.1 1.1 1.1 1.1]\n",
      " [1.1 1.1 1.1 1.1 1.1 1.1]]\n"
     ]
    }
   ],
   "source": [
    "print(np.full((4, 5), 34)) # The first argument specifies the rows and cols. The 2nd, the value to fill them.\n",
    "print('*********************')\n",
    "print(np.full((5, 6), 1.1))"
   ]
  },
  {
   "cell_type": "code",
   "execution_count": 82,
   "metadata": {},
   "outputs": [
    {
     "data": {
      "text/plain": [
       "array([1, 3, 5, 7, 9])"
      ]
     },
     "execution_count": 82,
     "metadata": {},
     "output_type": "execute_result"
    }
   ],
   "source": [
    "# Printing the nums in a given range\n",
    "np.arange(24, 76, 10) # First and second args specify the starting and end point\n",
    "# the third arg specifies the difference between the values\n",
    "np.arange(1, 10, 2)"
   ]
  },
  {
   "cell_type": "code",
   "execution_count": 83,
   "metadata": {},
   "outputs": [
    {
     "data": {
      "text/plain": [
       "array([[False, False, False, False],\n",
       "       [False, False, False, False],\n",
       "       [False, False, False, False]])"
      ]
     },
     "execution_count": 83,
     "metadata": {},
     "output_type": "execute_result"
    }
   ],
   "source": [
    "np.full((3, 4), False)"
   ]
  },
  {
   "cell_type": "code",
   "execution_count": 84,
   "metadata": {},
   "outputs": [
    {
     "data": {
      "text/plain": [
       "array([[ True,  True,  True,  True],\n",
       "       [ True,  True,  True,  True],\n",
       "       [ True,  True,  True,  True]])"
      ]
     },
     "execution_count": 84,
     "metadata": {},
     "output_type": "execute_result"
    }
   ],
   "source": [
    "np.full((3, 4), True)"
   ]
  },
  {
   "cell_type": "code",
   "execution_count": 85,
   "metadata": {},
   "outputs": [
    {
     "data": {
      "text/plain": [
       "array([['Hae', 'Hae', 'Hae', 'Hae'],\n",
       "       ['Hae', 'Hae', 'Hae', 'Hae'],\n",
       "       ['Hae', 'Hae', 'Hae', 'Hae']], dtype='<U3')"
      ]
     },
     "execution_count": 85,
     "metadata": {},
     "output_type": "execute_result"
    }
   ],
   "source": [
    "np.full((3, 4), 'Hae')"
   ]
  },
  {
   "cell_type": "code",
   "execution_count": 90,
   "metadata": {},
   "outputs": [
    {
     "data": {
      "text/plain": [
       "array([[0.79023393, 0.17022669, 0.9286041 ],\n",
       "       [0.50629798, 0.07495389, 0.88266665]])"
      ]
     },
     "execution_count": 90,
     "metadata": {},
     "output_type": "execute_result"
    }
   ],
   "source": [
    "np.random.rand(2, 3) # Spits out random floats between 0 and 1 to fill all the rows and cols"
   ]
  },
  {
   "cell_type": "code",
   "execution_count": 88,
   "metadata": {},
   "outputs": [
    {
     "data": {
      "text/plain": [
       "array([[0.33904945, 0.58589729, 0.97666715, 0.42753354],\n",
       "       [0.89795474, 0.48237673, 0.89662567, 0.50607337],\n",
       "       [0.52849161, 0.42558825, 0.66996426, 0.79857633]])"
      ]
     },
     "execution_count": 88,
     "metadata": {},
     "output_type": "execute_result"
    }
   ],
   "source": [
    "np.random.rand(3, 4)"
   ]
  },
  {
   "cell_type": "code",
   "execution_count": 115,
   "metadata": {},
   "outputs": [
    {
     "data": {
      "text/plain": [
       "array([[0.33904945, 0.58589729, 0.97666715],\n",
       "       [0.42753354, 0.89795474, 0.48237673],\n",
       "       [0.89662567, 0.50607337, 0.52849161],\n",
       "       [0.42558825, 0.66996426, 0.79857633]])"
      ]
     },
     "execution_count": 115,
     "metadata": {},
     "output_type": "execute_result"
    }
   ],
   "source": [
    "np.empty((4, 3))"
   ]
  },
  {
   "cell_type": "code",
   "execution_count": null,
   "metadata": {},
   "outputs": [],
   "source": []
  },
  {
   "cell_type": "code",
   "execution_count": null,
   "metadata": {},
   "outputs": [],
   "source": []
  },
  {
   "cell_type": "code",
   "execution_count": null,
   "metadata": {},
   "outputs": [],
   "source": []
  },
  {
   "cell_type": "code",
   "execution_count": null,
   "metadata": {},
   "outputs": [],
   "source": []
  },
  {
   "cell_type": "code",
   "execution_count": null,
   "metadata": {},
   "outputs": [],
   "source": []
  },
  {
   "cell_type": "code",
   "execution_count": null,
   "metadata": {},
   "outputs": [],
   "source": []
  }
 ],
 "metadata": {
  "kernelspec": {
   "display_name": "Python 3",
   "language": "python",
   "name": "python3"
  },
  "language_info": {
   "codemirror_mode": {
    "name": "ipython",
    "version": 3
   },
   "file_extension": ".py",
   "mimetype": "text/x-python",
   "name": "python",
   "nbconvert_exporter": "python",
   "pygments_lexer": "ipython3",
   "version": "3.7.6"
  }
 },
 "nbformat": 4,
 "nbformat_minor": 4
}
